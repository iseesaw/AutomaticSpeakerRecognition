{
 "cells": [
  {
   "cell_type": "markdown",
   "metadata": {},
   "source": [
    "## 训练i-vector提取器\n",
    "提供四种EM估计的实现，三个是FactorAnalyser类的方法，第四个是sidekit_mpi模块。  \n",
    " \n",
    "- **total_variablity_raw** 没有优化\n",
    "- **total_variablity_single** 单个计算机单个进行运行，已经优化\n",
    "- **total_variablity Multiprocessing**模块在单个计算机上并行化运行，已经优化"
   ]
  },
  {
   "cell_type": "markdown",
   "metadata": {},
   "source": [
    "### 1.total_variability_single\n",
    "运行之前：  \n",
    "\n",
    "- 训练GMM-UBM\n",
    "- 使用StatServer对象保存统计信息"
   ]
  },
  {
   "cell_type": "code",
   "execution_count": null,
   "metadata": {},
   "outputs": [],
   "source": [
    "fa = sidekit.FactorAnalyser()\n",
    "\n",
    "fa.total_variability_single(# StatServer文件名列表，保存统计信息\n",
    "                            stat_server_filename,\n",
    "                            # Mixture对象\n",
    "                            ubm,\n",
    "                            i-vector的大小\n",
    "                            tv_rank,\n",
    "                            # EM算法迭代次数\n",
    "                            nb_iter=20,\n",
    "                            # 每次迭代都包括最小散度重新估计步骤\n",
    "                            min_div=True,\n",
    "                            # 初始化训练矩阵\n",
    "                            tv_init=None,\n",
    "                            batch_size=300,\n",
    "                            save_init=False,\n",
    "                            # 模型保存到文件的名称\n",
    "                            output_file_name=None)"
   ]
  },
  {
   "cell_type": "markdown",
   "metadata": {},
   "source": [
    "### 2. total_variability"
   ]
  },
  {
   "cell_type": "code",
   "execution_count": null,
   "metadata": {},
   "outputs": [],
   "source": [
    "fa = sidekit.FactorAnalyser()\n",
    "\n",
    "fa.total_variability(# StatServer文件名列表\n",
    "                     stat_server_filename,\n",
    "                     # Mixture对象\n",
    "                     ubm,\n",
    "                     tv_rank,\n",
    "                     nb_iter=20,\n",
    "                     min_div=True,\n",
    "                     tv_init=None,\n",
    "                     batch_size=300,\n",
    "                     save_init=False,\n",
    "                     output_file_name=None,\n",
    "                     num_thread=1)"
   ]
  },
  {
   "cell_type": "markdown",
   "metadata": {},
   "source": [
    "### 3.MPI"
   ]
  },
  {
   "cell_type": "code",
   "execution_count": null,
   "metadata": {},
   "outputs": [],
   "source": [
    "fa = sidekit.FactorAnalyser()\n",
    "\n",
    "fa = sidekit.sidekit_mpi.total_variability(stat_server_filename,\n",
    "                                           ubm,\n",
    "                                           tv_rank=10,\n",
    "                                           nb_iter=10,\n",
    "                                           min_div=True,\n",
    "                                           tv_init=fa_init.F,\n",
    "                                           save_init=False,\n",
    "                                           output_file_name=\"tv_mpi\")"
   ]
  }
 ],
 "metadata": {
  "kernelspec": {
   "display_name": "Python 3",
   "language": "python",
   "name": "python3"
  },
  "language_info": {
   "codemirror_mode": {
    "name": "ipython",
    "version": 3
   },
   "file_extension": ".py",
   "mimetype": "text/x-python",
   "name": "python",
   "nbconvert_exporter": "python",
   "pygments_lexer": "ipython3",
   "version": "3.6.4"
  }
 },
 "nbformat": 4,
 "nbformat_minor": 2
}
