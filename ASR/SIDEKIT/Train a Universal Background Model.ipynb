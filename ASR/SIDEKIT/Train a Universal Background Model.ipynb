{
 "cells": [
  {
   "cell_type": "markdown",
   "metadata": {},
   "source": [
    "## Train a Universal Background Model\n",
    "UBM模型可以使用Mixture类通过EM算法训练得到"
   ]
  },
  {
   "cell_type": "markdown",
   "metadata": {},
   "source": [
    "### 1. EM_split训练"
   ]
  },
  {
   "cell_type": "code",
   "execution_count": null,
   "metadata": {
    "collapsed": true
   },
   "outputs": [],
   "source": [
    "ubm = sidekit.Mixture()\n",
    "\n",
    "ubm.EM_split(features_server=fs,\n",
    "             feature_list=ubm_list,\n",
    "             distrib_nb=1024,\n",
    "             iterations=(1, 2, 2, 4, 4, 4, 4, 8, 8, 8, 8, 8, 8),\n",
    "             num_thread=10,\n",
    "             # 是否每次迭代后保存模型\n",
    "             save_partial=False,\n",
    "             ceil_cov=10,\n",
    "             floor_cov=1e-2\n",
    "             )"
   ]
  },
  {
   "cell_type": "markdown",
   "metadata": {},
   "source": [
    "训练1024个分布：  \n",
    "具有1个分布的1次EM迭代  \n",
    "具有2个分布的2次EM迭代  \n",
    "具有4个分布的2次EM迭代  \n",
    "具有8个分布的4次EM迭代  \n",
    "具有16个分布的4次EM迭代  \n",
    "具有32个分布的4次EM迭代  \n",
    "具有64个分布的4次EM迭代  \n",
    "具有128个分布的8次EM迭代  \n",
    "具有256个分布的EM的8次迭代  \n",
    "具有512个分布的8次EM迭代  \n",
    "具有1024个分布的8次EM迭代  "
   ]
  },
  {
   "cell_type": "markdown",
   "metadata": {},
   "source": [
    "### 2. EM_uniform固定数量分布训练\n",
    "通过直接设置分布数量，也可以通过EM算法训练GMM。在这种情况下，将通过获取训练数据的随机子集的均值和协方差来初始化分布。代码如下："
   ]
  },
  {
   "cell_type": "markdown",
   "metadata": {},
   "source": [
    "ubm = sidekit.Mixture()\n",
    "\n",
    "ubm.EM_uniform(cep,\n",
    "       distrib_nb,\n",
    "       iteration_min=3,\n",
    "       iteration_max=10,\n",
    "       llk_gain=0.01,\n",
    "       do_init=True\n",
    "       )"
   ]
  },
  {
   "cell_type": "markdown",
   "metadata": {},
   "source": [
    "### 3. EM_split多个节点上训练\n",
    "SIDEKIT允许通过消息传递接口（MPI）使用多个节点（机器）并行训练GMM。"
   ]
  },
  {
   "cell_type": "code",
   "execution_count": null,
   "metadata": {
    "collapsed": true
   },
   "outputs": [],
   "source": [
    "ubm = sidekit.Mixture()\n",
    "sidekit.sidekit_mpi.EM_split(ubm=ubm,\n",
    "                             features_server=fs,\n",
    "                             feature_list=ubm_list,\n",
    "                             distrib_nb=2048,\n",
    "                             output_filename=\"ubm_tandem_mpi\",\n",
    "                             iterations=(1, 2, 2, 4, 4, 4, 4, 8, 8, 8, 8, 8, 8, 8, 8),\n",
    "                             llk_gain=0.01,\n",
    "                             save_partial=True,\n",
    "                             ceil_cov=10,\n",
    "                             floor_cov=1e-2,\n",
    "                             num_thread=30)"
   ]
  },
  {
   "cell_type": "markdown",
   "metadata": {},
   "source": [
    "fs是FeaturesServer用于加载声学特征的对象  \n",
    "ubm_list 是要处理的节目（会话）列表  "
   ]
  },
  {
   "cell_type": "markdown",
   "metadata": {},
   "source": [
    "### 4. 完全协方差 \n",
    "为了训练完全协方差GMM，您可以首先使用上述两种方法之一训练具有对角协方差的GMM，然后执行多次EM迭代以估计完整的协方差矩阵。这可以实现如下："
   ]
  },
  {
   "cell_type": "code",
   "execution_count": null,
   "metadata": {
    "collapsed": true
   },
   "outputs": [],
   "source": [
    "ubm = sidekit.Mixture()\n",
    "\n",
    "ubm.EM_split(features_server,\n",
    "             feature_list,\n",
    "             distrib_nb,\n",
    "             iterations=(1, 2, 2, 4, 4, 4, 4, 8, 8, 8, 8, 8, 8),\n",
    "             num_thread=10,\n",
    "             llk_gain=0.01,\n",
    "             save_partial=False,\n",
    "             ceil_cov=10,\n",
    "             floor_cov=1e-2\n",
    "             )\n",
    "\n",
    "ubm.EM_convert_full(features_server,\n",
    "                    featureList,\n",
    "                    distrib_nb,\n",
    "                    # EM迭代次数\n",
    "                    iterations=2,\n",
    "                    # 线程数\n",
    "                    num_thread=10\n",
    "                    )"
   ]
  }
 ],
 "metadata": {
  "kernelspec": {
   "display_name": "Python 3",
   "language": "python",
   "name": "python3"
  },
  "language_info": {
   "codemirror_mode": {
    "name": "ipython",
    "version": 3
   },
   "file_extension": ".py",
   "mimetype": "text/x-python",
   "name": "python",
   "nbconvert_exporter": "python",
   "pygments_lexer": "ipython3",
   "version": "3.6.2"
  }
 },
 "nbformat": 4,
 "nbformat_minor": 2
}
