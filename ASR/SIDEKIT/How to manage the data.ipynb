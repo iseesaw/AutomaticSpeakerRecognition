{
 "cells": [
  {
   "cell_type": "markdown",
   "metadata": {},
   "source": [
    "### IdMap\n"
   ]
  },
  {
   "cell_type": "code",
   "execution_count": 3,
   "metadata": {},
   "outputs": [
    {
     "data": {
      "text/plain": [
       "True"
      ]
     },
     "execution_count": 3,
     "metadata": {},
     "output_type": "execute_result"
    }
   ],
   "source": [
    "import numpy as np\n",
    "import sidekit \n",
    "\n",
    "idmap = sidekit.IdMap()\n",
    "idmap.leftids = np.array(['model_1', 'model_2', 'model_2'])\n",
    "idmap.rightids = np.array(['segment_1', 'segment_2', 'segment_3'])\n",
    "idmap.start = np.empty((3), dtype='|O')\n",
    "idmap.stop = np.empty((3), dtype='|O')\n",
    "\n",
    "idmap.validate()"
   ]
  },
  {
   "cell_type": "markdown",
   "metadata": {},
   "source": [
    "### Ndx"
   ]
  },
  {
   "cell_type": "code",
   "execution_count": 4,
   "metadata": {},
   "outputs": [
    {
     "data": {
      "text/plain": [
       "True"
      ]
     },
     "execution_count": 4,
     "metadata": {},
     "output_type": "execute_result"
    }
   ],
   "source": [
    "import numpy\n",
    "import sidekit\n",
    "\n",
    "ndx = sidekit.Ndx()\n",
    "ndx.modelset = numpy.array([\"model_1\", \"model_2\"])\n",
    "ndx.segset = numpy.array([\"segment_1\", \"segment_2\", \"segment_3\"])\n",
    "ndx.trialmask = numpy.ones((2,3), dtype='bool')\n",
    "\n",
    "ndx.validate()"
   ]
  },
  {
   "cell_type": "markdown",
   "metadata": {},
   "source": [
    "### Keys"
   ]
  },
  {
   "cell_type": "code",
   "execution_count": 5,
   "metadata": {},
   "outputs": [
    {
     "data": {
      "text/plain": [
       "True"
      ]
     },
     "execution_count": 5,
     "metadata": {},
     "output_type": "execute_result"
    }
   ],
   "source": [
    "import numpy\n",
    "import sidekit\n",
    "\n",
    "key = sidekit.Key()\n",
    "key.modelset = ndx.modelset\n",
    "key.segset = ndx.segset\n",
    "key.tar = numpy.zeros((2,3), dtype='bool')\n",
    "key.tar[0, 0] = True\n",
    "key.tar[1:, 1:] = True\n",
    "key.non = numpy.zeros((2,3), dtype='bool')\n",
    "key.non[0, 1:] = True\n",
    "key.non[1, 0] = True\n",
    "\n",
    "key.validate()"
   ]
  },
  {
   "cell_type": "code",
   "execution_count": null,
   "metadata": {},
   "outputs": [],
   "source": []
  }
 ],
 "metadata": {
  "kernelspec": {
   "display_name": "Python 3",
   "language": "python",
   "name": "python3"
  }
 },
 "nbformat": 4,
 "nbformat_minor": 2
}
