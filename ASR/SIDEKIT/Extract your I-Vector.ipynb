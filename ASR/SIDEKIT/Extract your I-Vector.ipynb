{
 "cells": [
  {
   "cell_type": "markdown",
   "metadata": {},
   "source": [
    "## 提取i-vector\n",
    "训练UBM模型和总可变性矩阵后，提取i-vector。  \n",
    "已经创建：  \n",
    "\n",
    "- Mixture, UBM\n",
    "- FeaturesServer, 加载声学特征\n",
    "- FactorAnalyser\n",
    "\n",
    "统计信息存储一个或多个StateServer中。"
   ]
  },
  {
   "cell_type": "markdown",
   "metadata": {},
   "source": [
    "### 1. 单个进行提取i-vector"
   ]
  },
  {
   "cell_type": "code",
   "execution_count": null,
   "metadata": {},
   "outputs": [],
   "source": [
    "fa = sidekit.FactorAnalyser()\n",
    "\n",
    "iv, iv_uncertainty = fa.extract_ivectors_single(# Mixture对象\n",
    "                                                ubm,\n",
    "                                                # StatServer对象\n",
    "                                                stat_server,\n",
    "                                                # 如果为True，该方法也返回一个矩阵，\n",
    "                                                #其中每一行是相应i向量的不定矩阵的对角线。\n",
    "                                                uncertainty=True)"
   ]
  },
  {
   "cell_type": "markdown",
   "metadata": {},
   "source": [
    "### 2. 单个节点(机器)上多进程提取i-vector"
   ]
  },
  {
   "cell_type": "code",
   "execution_count": null,
   "metadata": {},
   "outputs": [],
   "source": [
    "fa = sidekit.FactorAnalyser()\n",
    "\n",
    "iv, iv_uncertainty = fa.extract_ivectors(ubm,\n",
    "                                         stat_server_filename,\n",
    "                                         prefix='',\n",
    "                                         batch_size=300,\n",
    "                                         uncertainty=False,\n",
    "                                         num_thread=1)"
   ]
  },
  {
   "cell_type": "markdown",
   "metadata": {},
   "source": [
    "### 3. 多个节点(机器)上提取i-vector"
   ]
  },
  {
   "cell_type": "code",
   "execution_count": null,
   "metadata": {},
   "outputs": [],
   "source": [
    "fa = sidekit.FactorAnalyser()\n",
    "\n",
    "sidekit.sidekit_mpi.extract_ivector(stat_server_file_name,\n",
    "                                    ubm,\n",
    "                                    output_file_name,\n",
    "                                    uncertainty=False,\n",
    "                                    prefix='')"
   ]
  },
  {
   "cell_type": "code",
   "execution_count": null,
   "metadata": {},
   "outputs": [],
   "source": []
  }
 ],
 "metadata": {
  "kernelspec": {
   "display_name": "Python 3",
   "language": "python",
   "name": "python3"
  },
  "language_info": {
   "codemirror_mode": {
    "name": "ipython",
    "version": 3
   },
   "file_extension": ".py",
   "mimetype": "text/x-python",
   "name": "python",
   "nbconvert_exporter": "python",
   "pygments_lexer": "ipython3",
   "version": "3.6.4"
  }
 },
 "nbformat": 4,
 "nbformat_minor": 2
}
