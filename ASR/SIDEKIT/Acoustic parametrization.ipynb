{
 "cells": [
  {
   "cell_type": "markdown",
   "metadata": {},
   "source": [
    "## 声道特征提取、保存、使用\n",
    "- FeatureExtractor\n",
    "- FeatureServer"
   ]
  },
  {
   "cell_type": "markdown",
   "metadata": {},
   "source": [
    "### 1.HDF5格式保存特征\n",
    "<img src=\"http://www-lium.univ-lemans.fr/sidekit/_images/hdf5_featurefile_format_1.png\" height='20%' width='40%' />\n",
    "包含13个数据集：\n",
    "    \n",
    "| 特征 | 描述 |\n",
    "| -- | ----- |\n",
    "| bnf | for the bottleneck featuers |\n",
    "| bnf_mean | the mean vector |\n",
    "| dnf_std | the standard deviation vector |\n",
    "| cep | cepstral coefficients |\n",
    "| cep_mean | the mean vector |\n",
    "| cep_std | the standard deviation vector |\n",
    "| energy | a vector of log-energy values |\n",
    "| energy_mean | he mean vector |\n",
    "| energy_std | the standard deviation vector |\n",
    "| fb | the filter-bank coefficients |\n",
    "| fb_mean | he mean vector |\n",
    "| fb_std | the standard deviation vector |\n",
    "| vad | a vector of binary values |\n",
    "\n",
    "另一种HDF5结构\n",
    "<img src=\"http://www-lium.univ-lemans.fr/sidekit/_images/hdf5_featurefile_format_2.png\" height='20%' width='40%' />\n"
   ]
  },
  {
   "cell_type": "markdown",
   "metadata": {},
   "source": [
    "### 2.FeaturesExtractor对象\n",
    "FeaturesExtractor 输入语音文件 (WAV, SPHERE, raw PCM…)   \n",
    "返回HDF5格式特征(log-energy, cepstral coefficients, filter-bank coefficient, bottleneck features).\n"
   ]
  },
  {
   "cell_type": "markdown",
   "metadata": {},
   "source": [
    "#### 2.1.标准化输入输出文件名特征提取"
   ]
  },
  {
   "cell_type": "markdown",
   "metadata": {},
   "source": [
    "FeaturesExtractor创建对象"
   ]
  },
  {
   "cell_type": "code",
   "execution_count": null,
   "metadata": {
    "collapsed": true
   },
   "outputs": [],
   "source": [
    "# audio_filename_structure 语音文件保存结构\n",
    "extractor = sidekit.FeaturesExtractor(audio_filename_structure=\"audio/nist_2004/{}.sph\",\n",
    "                                      # 特征文件保存结构\n",
    "                                      feature_filename_structure=\"feat/sre04/{}.h5\",\n",
    "                                      # 样本频率\n",
    "                                      sampling_frequency=None,\n",
    "                                      lower_frequency=200,\n",
    "                                      higher_frequency=3800,\n",
    "                                      filter_bank=\"log\",\n",
    "                                      filter_bank_size=24,\n",
    "                                      window_size=0.025,\n",
    "                                      shift=0.01,\n",
    "                                      # 梅谱系数\n",
    "                                      ceps_number=20,\n",
    "                                      vad=\"snr\",\n",
    "                                      snr=40,\n",
    "                                      pre_emphasis=0.97,\n",
    "                                      # 存储的特征参数\n",
    "                                      save_param=[\"vad\", \"energy\", \"cep\", \"fb\"],\n",
    "                                      keep_all_features=True)"
   ]
  },
  {
   "cell_type": "code",
   "execution_count": null,
   "metadata": {
    "collapsed": true
   },
   "outputs": [],
   "source": [
    "#  数据文件 audio/nist_2004/taaa.sph\n",
    "extractor.save(\"taaa\")\n",
    "\n",
    "#  特征文件 feat/sre04/taaa.h5\n",
    "fh = extractor.extract(\"taaa\")"
   ]
  },
  {
   "cell_type": "markdown",
   "metadata": {},
   "source": [
    "多线程并行处理"
   ]
  },
  {
   "cell_type": "code",
   "execution_count": null,
   "metadata": {
    "collapsed": true
   },
   "outputs": [],
   "source": [
    "# 语音文件列表\n",
    "show_list = [\"taaa\", \"taaf\"]\n",
    "channel_list = [0, 0]\n",
    "\n",
    "extractor.save_list(show_list=show_list,\n",
    "                    channel_list=channel_list,\n",
    "                    # 线程数\n",
    "                    num_thread=10)"
   ]
  },
  {
   "cell_type": "markdown",
   "metadata": {},
   "source": [
    "#### 2.2.非标准化文件名特征提取"
   ]
  },
  {
   "cell_type": "markdown",
   "metadata": {},
   "source": [
    "创建FeatureExtractor对象"
   ]
  },
  {
   "cell_type": "code",
   "execution_count": null,
   "metadata": {
    "collapsed": true
   },
   "outputs": [],
   "source": [
    "extractor = sidekit.FeaturesExtractor(audio_filename_structure=None,\n",
    "                                      feature_filename_structure=None,\n",
    "                                      sampling_frequency=None,\n",
    "                                      lower_frequency=200,\n",
    "                                      higher_frequency=3800,\n",
    "                                      filter_bank=\"log\",\n",
    "                                      filter_bank_size=24,\n",
    "                                      window_size=0.025,\n",
    "                                      shift=0.01,\n",
    "                                      ceps_number=20,\n",
    "                                      vad=\"snr\",\n",
    "                                      snr=40,\n",
    "                                      pre_emphasis=0.97,\n",
    "                                      save_param=[\"vad\", \"energy\", \"cep\", \"fb\"],\n",
    "                                      keep_all_features=True)"
   ]
  },
  {
   "cell_type": "markdown",
   "metadata": {},
   "source": [
    "处理文件并保存到磁盘"
   ]
  },
  {
   "cell_type": "code",
   "execution_count": null,
   "metadata": {
    "collapsed": true
   },
   "outputs": [],
   "source": [
    "extractor.save(show=\"taaa\",\n",
    "               channel=0,\n",
    "               input_audio_filename=\"audio/sre04/taaa.sph\",\n",
    "               output_feature_filename=\"feat/nist/taaa.h5\")\n",
    "\n",
    "\n",
    "extractor.save(show=\"xllb\",\n",
    "               channel=0,\n",
    "               input_audio_filename=\"data/nist2005/xllb.sph\",\n",
    "               output_feature_filename=\"output/nist/xllb_a.h5\")"
   ]
  },
  {
   "cell_type": "markdown",
   "metadata": {},
   "source": [
    "不保存到磁盘"
   ]
  },
  {
   "cell_type": "code",
   "execution_count": null,
   "metadata": {
    "collapsed": true
   },
   "outputs": [],
   "source": [
    "fh = extractor.extract(show=\"taaa\",\n",
    "                       channel=0,\n",
    "                       input_audio_filename=\"audio/sre04/taaa.sph\",\n",
    "                       output_feature_filename=\"feat/nist/taaa.h5\")"
   ]
  },
  {
   "cell_type": "markdown",
   "metadata": {},
   "source": [
    "多线程处理"
   ]
  },
  {
   "cell_type": "code",
   "execution_count": null,
   "metadata": {
    "collapsed": true
   },
   "outputs": [],
   "source": [
    "show_list = [\"taaa\", \"xllb\"]\n",
    "input_file_list = [\"audio/sre04/taaa.sph\", \"data/nist2005/xllb.sph\"]\n",
    "output_feature_list = [\"feat/nist/taaa.h5\", \"output/nist/xllb_a.h5\"]\n",
    "\n",
    "extractor.save_list(show_list=show_list,,\n",
    "                    channel_list=channel_list,\n",
    "                    num_thread=10)"
   ]
  },
  {
   "cell_type": "markdown",
   "metadata": {},
   "source": [
    "输出结构\n",
    "<img src='http://www-lium.univ-lemans.fr/sidekit/_images/hdf5_featurefile_format_3.png' height='20%' width='40%' />"
   ]
  },
  {
   "cell_type": "markdown",
   "metadata": {},
   "source": [
    "### 3.FeaturesServer对象"
   ]
  },
  {
   "cell_type": "markdown",
   "metadata": {},
   "source": [
    "FeatureServer从一个或多个HDF5文件加载一个或多个数据集并对特征进行后处理（标准化，添加时间上下文，rasta过滤，特征选择......）"
   ]
  },
  {
   "cell_type": "markdown",
   "metadata": {},
   "source": [
    "#### 3.1. 从单一文件中提取特征"
   ]
  },
  {
   "cell_type": "markdown",
   "metadata": {},
   "source": [
    "##### 3.1.1. 从HDF5文件中提取特征\n",
    "之前已经通过FeatureExtractor提取特征并保存到文件中  \n",
    "\n",
    "创建FeaturesServer实例对象"
   ]
  },
  {
   "cell_type": "code",
   "execution_count": null,
   "metadata": {
    "collapsed": true
   },
   "outputs": [],
   "source": [
    "server = sidekit.FeaturesServer(features_extractor=None,\n",
    "                                feature_filename_structure=\"feat/sre04/{}.h5\",\n",
    "                                sources=None,\n",
    "                                # [“cep”, “fb”, vad”, energy”, “bnf”]\n",
    "                                dataset_list=[\"energy\", \"cep\", \"vad\"],\n",
    "                                mask=\"[0-12]\",\n",
    "                                # 正则化类型 “cmvn”, “cms”, “stg”\n",
    "                                feat_norm=\"cmvn\",\n",
    "                                global_cmvn=None,\n",
    "                                dct_pca=False,\n",
    "                                dct_pca_config=None,\n",
    "                                sdc=False,\n",
    "                                sdc_config=None,\n",
    "                                delta=True,\n",
    "                                double_delta=True,\n",
    "                                delta_filter=None,\n",
    "                                context=None,\n",
    "                                traps_dct_nb=None,\n",
    "                                rasta=True,\n",
    "                                keep_all_features=True)"
   ]
  },
  {
   "cell_type": "markdown",
   "metadata": {},
   "source": [
    "后处理可以按以下顺序包括以下步骤：  \n",
    "- rasta过滤  \n",
    "- 添加时间上下文的一阶和二阶导数，DCT-PCA或Shifted Delta Cepstra。  \n",
    "- 使用倒谱平均方差归一化（cmvn），倒谱平均减法（cms）或短期高斯化（stg）对特征进行归一化。  \n",
    "- 如果“vad”包含在dataset_list中，则根据加载的VAD标签选择帧。如果“vad”不在dataset_list中，则保留所有帧  \n",
    "\n",
    "使用该FeaturesServer"
   ]
  },
  {
   "cell_type": "code",
   "execution_count": null,
   "metadata": {
    "collapsed": true
   },
   "outputs": [],
   "source": [
    "load(self, show, channel=0, input_feature_filename=None, label=None, start=None, stop=None)"
   ]
  },
  {
   "cell_type": "markdown",
   "metadata": {},
   "source": [
    "##### 3.1.2. 从语音文件中提取特征\n",
    "使用包含FeaturesExtractor的FeaturesServer来计算音频文件中的声学参数"
   ]
  },
  {
   "cell_type": "code",
   "execution_count": null,
   "metadata": {
    "collapsed": true
   },
   "outputs": [],
   "source": [
    "server = sidekit.FeaturesServer(features_extractor=extractor,\n",
    "                                feature_filename_structure=None,\n",
    "                                sources=None,\n",
    "                                dataset_list=[\"energy\", \"cep\", \"vad\"],\n",
    "                                mask=\"[0-12]\",\n",
    "                                feat_norm=\"cmvn\",\n",
    "                                global_cmvn=None,\n",
    "                                dct_pca=False,\n",
    "                                dct_pca_config=None,\n",
    "                                sdc=False,\n",
    "                                sdc_config=None,\n",
    "                                delta=True,\n",
    "                                double_delta=True,\n",
    "                                delta_filter=None,\n",
    "                                context=None,\n",
    "                                traps_dct_nb=None,\n",
    "                                rasta=True,\n",
    "                                keep_all_features=True)\n",
    "\n",
    "# FeaturesServer使用\n",
    "features，label = server.load（show，channel = 0，input_feature_filename = featureFileName，label = None，start = None，stop = None）"
   ]
  },
  {
   "cell_type": "markdown",
   "metadata": {},
   "source": [
    "#### 3.2. 从多个文件中提取特征"
   ]
  },
  {
   "cell_type": "markdown",
   "metadata": {},
   "source": [
    "##### 3.2.1. 从多个HDF5文件中提取特征\n",
    "我们将从第一组加载能量，从第二组加载几个倒谱系数以组合它们。VAD标签也将从第二组中获取。为此，我们创建了两个功能服务器（每个服务器一个），如下所示："
   ]
  },
  {
   "cell_type": "code",
   "execution_count": null,
   "metadata": {
    "collapsed": true
   },
   "outputs": [],
   "source": [
    "fs_1 = sidekit.FeaturesServer(feature_filename_structure=\"{}.h5\",\n",
    "                              dataset_list=[\"energy\"],\n",
    "                              context=None)\n",
    "\n",
    "fs_2 = sidekit.FeaturesServer(feature_filename_structure=\"{}_2.h5\",\n",
    "                             dataset_list=[\"cep\", \"vad\"],\n",
    "                             mask=\"[0-12]\",\n",
    "                             delta=True,\n",
    "                             double_delta=True,\n",
    "                             rasta=True)"
   ]
  },
  {
   "cell_type": "markdown",
   "metadata": {},
   "source": [
    "最后一步包括创建第三个FeatureServer，它将调用fs_1和fs_2，然后在对完整功能应用后处理之前组合这两种类型的功能："
   ]
  },
  {
   "cell_type": "code",
   "execution_count": null,
   "metadata": {
    "collapsed": true
   },
   "outputs": [],
   "source": [
    "fs = sidekit.FeaturesServer(sources=((fs_1, False), (fs_2, True)),\n",
    "                                feat_norm=\"cmvn\",\n",
    "                                keep_all_features=False)"
   ]
  },
  {
   "cell_type": "markdown",
   "metadata": {},
   "source": [
    "形成第一组的能量与第二组的倒谱系数连同它们的一阶和二阶导数连接。最终，CMVN应用于整个特征，并且仅基于来自第二组的VAD标签保留所选择的帧。所有这一切都是通过调用："
   ]
  },
  {
   "cell_type": "code",
   "execution_count": null,
   "metadata": {
    "collapsed": true
   },
   "outputs": [],
   "source": [
    "feat, label = fs.load(\"taaa\")"
   ]
  },
  {
   "cell_type": "markdown",
   "metadata": {},
   "source": [
    "得到的特征是40维特征帧（13个倒谱系数+13个增量+ 13个delta-delta和对数能量）。"
   ]
  },
  {
   "cell_type": "markdown",
   "metadata": {},
   "source": [
    "##### 3.2.2 从一个HDF5和一个语音文件中提取特征\n",
    "我们首先创建一个FeaturesExtractor处理音频文件和相关的FeaturesServer将管理 FeaturesExtractor："
   ]
  },
  {
   "cell_type": "code",
   "execution_count": null,
   "metadata": {
    "collapsed": true
   },
   "outputs": [],
   "source": [
    "extractor = sidekit.FeaturesExtractor(audio_filename_structure=\"{}.wav\",\n",
    "                                      sampling_frequency=8000,\n",
    "                                      lower_frequency=0,\n",
    "                                      higher_frequency=4000,\n",
    "                                      filter_bank=\"log\",\n",
    "                                      filter_bank_size=40,\n",
    "                                      window_size=0.025,\n",
    "                                      shift=0.01,\n",
    "                                      ceps_number=20,\n",
    "                                      vad=\"snr\",\n",
    "                                      snr=40,\n",
    "                                      pre_emphasis=0.97,\n",
    "                                      save_param=[\"energy\"],\n",
    "                                      keep_all_features=True)\n",
    "\n",
    "fs_1 = sidekit.FeaturesServer(features_extractor=extractor,\n",
    "                                feature_filename_structure=None,\n",
    "                                sources=None,\n",
    "                                vad=\"snr\",\n",
    "                                snr=40,\n",
    "                                dataset_list=[\"energy\"],\n",
    "                                keep_all_features=True)"
   ]
  },
  {
   "cell_type": "markdown",
   "metadata": {},
   "source": [
    "然后，我们创建第二个FeatureServer，它将从第二组特征文件加载倒谱系数并执行一些后期处理："
   ]
  },
  {
   "cell_type": "code",
   "execution_count": null,
   "metadata": {
    "collapsed": true
   },
   "outputs": [],
   "source": [
    "fs_2 = sidekit.FeaturesServer(feature_filename_structure=\"{}_2.h5\",\n",
    "                             dataset_list=[\"cep\", \"vad\"],\n",
    "                             mask=\"[0-12]\",\n",
    "                             delta=True,\n",
    "                             double_delta=True,\n",
    "                             rasta=True)"
   ]
  },
  {
   "cell_type": "markdown",
   "metadata": {},
   "source": [
    "我们现在将两个FeaturesExtractor合并到第三个并执行CMVN："
   ]
  },
  {
   "cell_type": "code",
   "execution_count": null,
   "metadata": {
    "collapsed": true
   },
   "outputs": [],
   "source": [
    "fs = sidekit.FeaturesServer(sources=((fs_1, False), (fs_2, True)),\n",
    "                                feat_norm=\"cmvn\",\n",
    "                                keep_all_features=False)"
   ]
  },
  {
   "cell_type": "markdown",
   "metadata": {},
   "source": [
    "得到的特征通过以下方式获得："
   ]
  },
  {
   "cell_type": "code",
   "execution_count": null,
   "metadata": {
    "collapsed": true
   },
   "outputs": [],
   "source": [
    "feat, label = fs.load(\"taab\")"
   ]
  }
 ],
 "metadata": {
  "kernelspec": {
   "display_name": "Python 3",
   "language": "python",
   "name": "python3"
  },
  "language_info": {
   "codemirror_mode": {
    "name": "ipython",
    "version": 3
   },
   "file_extension": ".py",
   "mimetype": "text/x-python",
   "name": "python",
   "nbconvert_exporter": "python",
   "pygments_lexer": "ipython3",
   "version": "3.6.2"
  }
 },
 "nbformat": 4,
 "nbformat_minor": 2
}
